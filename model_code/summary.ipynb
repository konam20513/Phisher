{
 "cells": [
  {
   "cell_type": "code",
   "execution_count": null,
   "id": "d7394ea0",
   "metadata": {},
   "outputs": [],
   "source": [
    "from spacy.lang.en.stop_words import STOP_WORDS\n",
    "import spacy\n",
    "import heapq\n",
    "from heapq import nlargest\n",
    "stopwords=list(STOP_WORDS)\n",
    "nlp = spacy.load('en_core_web_sm')"
   ]
  },
  {
   "cell_type": "code",
   "execution_count": null,
   "id": "faacc68c",
   "metadata": {},
   "outputs": [],
   "source": [
    "def get_summarySpacy(article):\n",
    "    from string import punctuation\n",
    "    doc = nlp(article)\n",
    "    tokens = [token.text for token in doc]\n",
    "    punctuation+='/n'\n",
    "    word_freq={}\n",
    "    # Finding word frequency\n",
    "    for word in doc:\n",
    "        if word.text.lower() not in stopwords:\n",
    "            if word.text.lower() not in punctuation:\n",
    "                if word.text not in word_freq.keys():\n",
    "                    word_freq[word.text]=1\n",
    "                else:\n",
    "                    word_freq[word.text]+=1\n",
    "    max_freq = max(word_freq.values())\n",
    "    \n",
    "    # Finding weighted frequencies of occurrence\n",
    "    for word in word_freq.keys():\n",
    "        word_freq[word]=word_freq[word]/max_freq\n",
    "    sentence_tokens = [sentence for sentence in doc.sents]\n",
    "    sent_scores={}\n",
    "    \n",
    "    # Calculate sentence scores\n",
    "    for sent in sentence_tokens:\n",
    "        for word in sent:\n",
    "            if word.text.lower() in word_freq.keys():\n",
    "                if sent not in sent_scores.keys():\n",
    "                    sent_scores[sent]=word_freq[word.text.lower()]\n",
    "                else:\n",
    "                    sent_scores[sent]+=word_freq[word.text.lower()]\n",
    "    # Summary\n",
    "    select_len = int(len(sentence_tokens)*0.3)\n",
    "    summary = nlargest(select_len,sent_scores,key=sent_scores.get)\n",
    "    return summary[0] "
   ]
  }
 ],
 "metadata": {
  "kernelspec": {
   "display_name": "Python 3 (ipykernel)",
   "language": "python",
   "name": "python3"
  },
  "language_info": {
   "codemirror_mode": {
    "name": "ipython",
    "version": 3
   },
   "file_extension": ".py",
   "mimetype": "text/x-python",
   "name": "python",
   "nbconvert_exporter": "python",
   "pygments_lexer": "ipython3",
   "version": "3.8.5"
  }
 },
 "nbformat": 4,
 "nbformat_minor": 5
}
